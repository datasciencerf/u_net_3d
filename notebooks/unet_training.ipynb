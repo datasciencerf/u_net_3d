{
 "cells": [
  {
   "cell_type": "code",
   "execution_count": 1,
   "metadata": {},
   "outputs": [
    {
     "name": "stderr",
     "output_type": "stream",
     "text": [
      "/opt/conda/lib/python3.7/site-packages/pkg_resources/__init__.py:1151: DeprecationWarning: Use of .. or absolute path in a resource path is not allowed and will raise exceptions in a future release.\n",
      "  self, resource_name\n",
      "/opt/conda/lib/python3.7/site-packages/pkg_resources/__init__.py:1151: DeprecationWarning: Use of .. or absolute path in a resource path is not allowed and will raise exceptions in a future release.\n",
      "  self, resource_name\n",
      "/opt/conda/lib/python3.7/site-packages/ipyleaflet/leaflet.py:338: DeprecationWarning: metadata {'dtype': None} was set from the constructor. With traitlets 4.1, metadata should be set using the .tag() method, e.g., Int().tag(key1='value1', key2='value2')\n",
      "  data = Dataset().tag(dtype=None, sync=True, to_json=ds_x_to_json)\n"
     ]
    }
   ],
   "source": [
    "import pathlib\n",
    "import os\n",
    "os.chdir(pathlib.Path(os.getcwd()).parent)\n",
    "from dnn.model_pipeline import UNetPipeline, get_masked_daily_product\n",
    "from dnn.model_pipeline import ndvi, get_cdl, isin, crops_list\n",
    "import descarteslabs as dl\n",
    "import numpy as np\n",
    "from descarteslabs.client.services import Places\n",
    "import matplotlib as mpl\n",
    "import matplotlib.patches as patches\n",
    "from matplotlib import pyplot as plt\n",
    "from tqdm.notebook import tqdm\n",
    "import shapely\n",
    "import shapely.ops\n",
    "import shapely.prepared\n",
    "import rasterio.features\n",
    "import ipyleaflet\n",
    "import warnings\n",
    "warnings.filterwarnings(\"ignore\")\n",
    "%matplotlib inline"
   ]
  },
  {
   "cell_type": "markdown",
   "metadata": {},
   "source": [
    "### Generate the Tilated Image Collection and Get Rid of Invalid Tiles"
   ]
  },
  {
   "cell_type": "code",
   "execution_count": 2,
   "metadata": {},
   "outputs": [
    {
     "name": "stdout",
     "output_type": "stream",
     "text": [
      "Number of tiles: 62635\n"
     ]
    }
   ],
   "source": [
    "# Create the Central Valley AOI and Tilation\n",
    "sac = shapely.geometry.shape(\n",
    "    dl.places.shape(\"north-america_united-states_california_sacramento-valley\").geometry\n",
    ")\n",
    "sj = shapely.geometry.shape(\n",
    "    dl.places.shape(\"north-america_united-states_california_san-joaquin-valley\").geometry)\n",
    "central_valley_aoi = sac.union(sj)\n",
    "\n",
    "tiles = dl.scenes.DLTile.from_shape(\n",
    "    central_valley_aoi, resolution=20, tilesize=64, pad=0)\n",
    "print(f'Number of tiles: {len(tiles)}')"
   ]
  },
  {
   "cell_type": "code",
   "execution_count": 3,
   "metadata": {},
   "outputs": [],
   "source": [
    "# Create Relevant Image Collections from our AOI / Tiles\n",
    "start_datetime = \"2019-01-01\"\n",
    "end_datetime = \"2020-01-01\"\n",
    "# Create Landsat Image Collection\n",
    "l8_daily = get_masked_daily_product(\n",
    "    \"landsat:LC08:01:T1:TOAR\", start_datetime, end_datetime\n",
    ").pick_bands(\"red green blue nir swir1\")\n",
    "l8_daily = l8_daily.concat_bands(ndvi(l8_daily))\n",
    "# Create CDL Image Collection\n",
    "cdl = get_cdl(start_date=\"2017-01-01\", end_date=\"2020-01-01\")\n",
    "is_crops = isin(cdl, crops_list)\n",
    "is_crops_19 = is_crops[-1]\n",
    "four_year_combo = is_crops.sum(axis=\"images\") + is_crops_19  # double-weight 2019\n",
    "four_year_binary = four_year_combo >= 2\n",
    "cdl_mask = ~four_year_binary"
   ]
  },
  {
   "cell_type": "code",
   "execution_count": 4,
   "metadata": {},
   "outputs": [
    {
     "name": "stdout",
     "output_type": "stream",
     "text": [
      "\n",
      "Job ID: 43c2c4fe1f41ef42a9a99ed78e9a1f9bba6f9bd775f35dda\n",
      "[######] | Steps: 10/10 | Stage: SUCCEEDED                                    \n",
      "Job ID: 43c2c4fe1f41ef42a9a99ed78e9a1f9bba6f9bd775f35dda\n",
      "length of shapes: 4957\n",
      "Type of all_valid: <class 'shapely.geometry.multipolygon.MultiPolygon'>\n"
     ]
    },
    {
     "data": {
      "application/vnd.jupyter.widget-view+json": {
       "model_id": "2e16850148a54bf883c05c0f0e0ba6b9",
       "version_major": 2,
       "version_minor": 0
      },
      "text/plain": [
       "HBox(children=(FloatProgress(value=0.0, max=62635.0), HTML(value='')))"
      ]
     },
     "metadata": {},
     "output_type": "display_data"
    },
    {
     "name": "stdout",
     "output_type": "stream",
     "text": [
      "\n",
      "No. Valid Tiles: 19893\n",
      "Percentage of valid tiles: 31.76019797237966\n"
     ]
    }
   ],
   "source": [
    "# Find the the valid tiles\n",
    "central_valley_ctx = dl.scenes.AOI(central_valley_aoi, shape=(2048, 2048), crs=\"EPSG:4326\")\n",
    "all_cdl = four_year_binary.compute(central_valley_ctx)\n",
    "all_cdl.geocontext[\"gdal_geotrans\"]\n",
    "shapes = list(\n",
    "    geom for geom, value in\n",
    "    rasterio.features.shapes(\n",
    "        all_cdl.ndarray.astype(\"uint8\"), \n",
    "        transform=rasterio.transform.Affine.from_gdal(*all_cdl.geocontext[\"gdal_geotrans\"])\n",
    "    )\n",
    "    if value == 1\n",
    ")\n",
    "print(f\"length of shapes: {len(shapes)}\")\n",
    "all_valid = shapely.ops.unary_union([shapely.geometry.shape(s) for s in shapes]).simplify(0.3)\n",
    "print(f'Type of all_valid: {type(all_valid)}')\n",
    "all_valid_prepped = shapely.prepared.prep(all_valid)\n",
    "valid_tiles = [t for t in tqdm(tiles) if all_valid_prepped.intersects(t.geometry)]\n",
    "print(f'No. Valid Tiles: {len(valid_tiles)}')\n",
    "print(f'Percentage of valid tiles: {100*(len(valid_tiles) / len(tiles))}')"
   ]
  },
  {
   "cell_type": "markdown",
   "metadata": {},
   "source": [
    "## Train the U-Net Model"
   ]
  },
  {
   "cell_type": "code",
   "execution_count": 5,
   "metadata": {},
   "outputs": [],
   "source": [
    "unet_params = {\n",
    "    'img_height': 64,\n",
    "    'img_width': 64,\n",
    "    'bands': 6,\n",
    "    'time_steps': 12,\n",
    "    'nclasses': len(crops_list) + 1\n",
    "}\n",
    "random_seed = 2020\n",
    "L = len(valid_tiles)\n",
    "test_split = np.random.RandomState(random_seed)\n",
    "tr_ix = test_split.choice(np.arange(L), int(0.85 * L), replace=False)\n",
    "tst_ix = np.array([k for k in np.arange(L) if k not in tr_ix])\n",
    "u_net = UNetPipeline(model_params=unet_params, \n",
    "                     tiles=np.asanyarray(valid_tiles),\n",
    "                     img_prod_id=\"landsat:LC08:01:T1:TOAR\",\n",
    "                     train_ix=tr_ix,\n",
    "                     test_ix=tst_ix,\n",
    "                     random_seed=random_seed\n",
    "                     )"
   ]
  },
  {
   "cell_type": "code",
   "execution_count": null,
   "metadata": {},
   "outputs": [
    {
     "name": "stdout",
     "output_type": "stream",
     "text": [
      "Starting Training ...\n",
      "Year 2017\n",
      "Epoch 1 / 5: \n",
      "Batch 1 out of 1057\n",
      "################################\n",
      "Train on 16 samples\n",
      "16/16 [==============================] - 13s 816ms/sample - loss: 7.6772 - accuracy: 0.0207\n",
      "Year 2017\n",
      "Epoch 1 / 5: \n",
      "Batch 11 out of 1057\n",
      "################################\n",
      "Train on 16 samples\n",
      "16/16 [==============================] - 2s 95ms/sample - loss: 9.4036 - accuracy: 0.0203\n",
      "Year 2017\n",
      "Epoch 1 / 5: \n",
      "Batch 21 out of 1057\n",
      "################################\n",
      "Train on 16 samples\n",
      "16/16 [==============================] - 2s 94ms/sample - loss: 7.6489 - accuracy: 0.0219\n",
      "Year 2017\n",
      "Epoch 1 / 5: \n",
      "Batch 31 out of 1057\n",
      "################################\n",
      "Train on 16 samples\n",
      "16/16 [==============================] - 1s 93ms/sample - loss: 9.4945 - accuracy: 0.0214\n",
      "Year 2017\n",
      "Epoch 1 / 5: \n",
      "Batch 41 out of 1057\n",
      "################################\n",
      "Train on 16 samples\n",
      "16/16 [==============================] - 2s 95ms/sample - loss: 8.6692 - accuracy: 0.0209\n",
      "Year 2017\n",
      "Epoch 1 / 5: \n",
      "Batch 51 out of 1057\n",
      "################################\n",
      "Train on 16 samples\n",
      "16/16 [==============================] - 2s 94ms/sample - loss: 9.2746 - accuracy: 0.0216\n",
      "Year 2017\n",
      "Epoch 1 / 5: \n",
      "Batch 61 out of 1057\n",
      "################################\n",
      "Train on 16 samples\n",
      "16/16 [==============================] - 2s 95ms/sample - loss: 9.4842 - accuracy: 0.0236\n",
      "Year 2017\n",
      "Epoch 1 / 5: \n",
      "Batch 71 out of 1057\n",
      "################################\n",
      "Train on 16 samples\n",
      "16/16 [==============================] - 2s 96ms/sample - loss: 9.7466 - accuracy: 0.0224\n",
      "Year 2017\n",
      "Epoch 1 / 5: \n",
      "Batch 81 out of 1057\n",
      "################################\n",
      "Train on 16 samples\n",
      "16/16 [==============================] - 2s 94ms/sample - loss: 8.2903 - accuracy: 0.0206\n",
      "Year 2017\n",
      "Epoch 1 / 5: \n",
      "Batch 91 out of 1057\n",
      "################################\n",
      "Train on 16 samples\n",
      "16/16 [==============================] - 2s 95ms/sample - loss: 9.1989 - accuracy: 0.0303\n",
      "Year 2017\n",
      "Epoch 1 / 5: \n",
      "Batch 101 out of 1057\n",
      "################################\n",
      "Train on 16 samples\n",
      "16/16 [==============================] - 1s 93ms/sample - loss: 6.7812 - accuracy: 0.0305\n"
     ]
    }
   ],
   "source": [
    "u_net.train_model(16, 5)"
   ]
  },
  {
   "cell_type": "code",
   "execution_count": null,
   "metadata": {},
   "outputs": [],
   "source": []
  }
 ],
 "metadata": {
  "kernelspec": {
   "display_name": "Python 3",
   "language": "python",
   "name": "python3"
  },
  "language_info": {
   "codemirror_mode": {
    "name": "ipython",
    "version": 3
   },
   "file_extension": ".py",
   "mimetype": "text/x-python",
   "name": "python",
   "nbconvert_exporter": "python",
   "pygments_lexer": "ipython3",
   "version": "3.7.6"
  }
 },
 "nbformat": 4,
 "nbformat_minor": 4
}
